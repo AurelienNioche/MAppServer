{
 "cells": [
  {
   "cell_type": "code",
   "execution_count": 62,
   "id": "initial_id",
   "metadata": {
    "collapsed": true,
    "ExecuteTime": {
     "end_time": "2023-08-31T18:34:47.359590Z",
     "start_time": "2023-08-31T18:34:47.345098Z"
    }
   },
   "outputs": [],
   "source": [
    "import numpy as np\n",
    "from pymdp.envs import TMazeEnvNullOutcome\n",
    "from pymdp import utils, maths\n",
    "import copy"
   ]
  },
  {
   "cell_type": "code",
   "execution_count": 63,
   "outputs": [
    {
     "name": "stdout",
     "output_type": "stream",
     "text": [
      "The autoreload extension is already loaded. To reload it, use:\n",
      "  %reload_ext autoreload\n"
     ]
    }
   ],
   "source": [
    "%load_ext autoreload\n",
    "%autoreload 2"
   ],
   "metadata": {
    "collapsed": false,
    "ExecuteTime": {
     "end_time": "2023-08-31T18:34:48.212843Z",
     "start_time": "2023-08-31T18:34:48.191558Z"
    }
   },
   "id": "3565b7eb36b2ffd8"
  },
  {
   "cell_type": "markdown",
   "source": [
    "*actions*: 0: CENTER, 1: RIGHT ARM, 2: LEFT ARM, 3: CUE LOCATION (bottom)\n",
    "\n",
    "*observations*: 0: LOCATION, 1: REWARD, 2: CUE\n",
    "\n",
    "*states*: 0: LOCATION, 1: CONTEXT"
   ],
   "metadata": {
    "collapsed": false
   },
   "id": "22c473c9f48c8bf4"
  },
  {
   "cell_type": "code",
   "execution_count": 64,
   "outputs": [],
   "source": [
    "reward_probabilities = [0.85, 0.15]  # the 'true' reward probabilities\n",
    "env = TMazeEnvNullOutcome(reward_probs=reward_probabilities)\n",
    "A_gp = env.get_likelihood_dist()\n",
    "B_gp = env.get_transition_dist()"
   ],
   "metadata": {
    "collapsed": false,
    "ExecuteTime": {
     "end_time": "2023-08-31T18:34:48.699326Z",
     "start_time": "2023-08-31T18:34:48.683091Z"
    }
   },
   "id": "4c73ec1f10952b64"
  },
  {
   "cell_type": "code",
   "execution_count": 65,
   "outputs": [],
   "source": [
    "# Wrong model for A\n",
    "pA = utils.dirichlet_like(A_gp, scale=1e16)\n",
    "pA[1][1:, 1:3, :] = 1.0\n",
    "A_gm = utils.norm_dist_obj_arr(pA)\n",
    "B_gm = copy.deepcopy(B_gp)\n",
    "# Beliefs over the states: p(location), p(context)\n",
    "D = [np.array([1,0,0,0]),     # Knows it is in the center\n",
    "     np.array([0.5, 0.5])]    # but doesn't know the context ('reward condition')\n",
    "# Preferences over the observations: \\tilde p(Location), \\tilde p(reward), \\tilde(context)\n",
    "C = [np.array([0., 0., 0., 0.]), # Location: Doesn't matter where it is\n",
    "     np.array([ 0., 2., -2.]),   # Reward: Prefers to see reward than no reward, or punishment\n",
    "     np.array([0., 0., 0.])]         # Cue: Doesn't matter the cue (none, right, left)\n",
    "\n",
    "lr = 0.25"
   ],
   "metadata": {
    "collapsed": false,
    "ExecuteTime": {
     "end_time": "2023-08-31T18:34:48.892001Z",
     "start_time": "2023-08-31T18:34:48.875551Z"
    }
   },
   "id": "65633756507022d6"
  },
  {
   "cell_type": "code",
   "execution_count": 66,
   "outputs": [
    {
     "data": {
      "text/plain": "[0, 0, 0]"
     },
     "execution_count": 66,
     "metadata": {},
     "output_type": "execute_result"
    }
   ],
   "source": [
    "obs = env.reset() # reset the environment and get an initial observation\n",
    "obs # Location, reward, cue"
   ],
   "metadata": {
    "collapsed": false,
    "ExecuteTime": {
     "end_time": "2023-08-31T18:34:49.055147Z",
     "start_time": "2023-08-31T18:34:49.036675Z"
    }
   },
   "id": "81cb6e76f93e74ac"
  },
  {
   "cell_type": "code",
   "execution_count": 67,
   "outputs": [],
   "source": [
    "def softmax(dist):\n",
    "    \"\"\" \n",
    "    Computes the softmax function on a set of values\n",
    "    \"\"\"\n",
    "\n",
    "    output = dist - dist.max(axis=0)\n",
    "    output = np.exp(output)\n",
    "    output = output / np.sum(output, axis=0)\n",
    "    return output"
   ],
   "metadata": {
    "collapsed": false,
    "ExecuteTime": {
     "end_time": "2023-08-31T18:34:49.225287Z",
     "start_time": "2023-08-31T18:34:49.204715Z"
    }
   },
   "id": "adfe4a720e4ca08a"
  },
  {
   "cell_type": "code",
   "execution_count": 82,
   "outputs": [],
   "source": [
    "s_location_idx = 0\n",
    "s_context_idx = 1\n",
    "qs_context = D[s_context_idx] # Equals D for the first iteration\n",
    "\n",
    "have_preference = [np.all(C[i] == 0.) == False for i in range(len(C))]\n",
    "\n",
    "n_action = len(B_gp[s_location_idx][0,0,:])\n",
    "n_obs = len(A_gp)\n",
    "\n",
    "epistemic_val = np.zeros(n_action)\n",
    "pragmatic_val = np.zeros(n_action)\n",
    "epistemic_model_val = np.zeros(n_action)\n",
    "for action in range(n_action):\n",
    "    \n",
    "    qs_location_action = B_gm[s_location_idx][:,:, action].dot(D[s_location_idx])\n",
    "    \n",
    "    for i in range(n_obs):\n",
    "        \n",
    "        A_mod = A_gm[i]\n",
    "        \n",
    "        # Equation B.28 (third line) (p 252)\n",
    "        qo_mod_i_pi = A_mod[:,:,:].dot(qs_context).dot(qs_location_action)\n",
    "        \n",
    "        # Pragmatic value - Equation B.28\n",
    "        # if have_preference[i]:\n",
    "        soft_c = softmax(C[i])\n",
    "        # Equation B.28 (first line) (p 252)\n",
    "        val = qo_mod_i_pi.T.dot(np.log(soft_c))\n",
    "        pragmatic_val[action] += val\n",
    "        \n",
    "        # Epistemic value - Equation B.29\n",
    "        # Equation B.29 (second line, first term) (p 252)\n",
    "        first_term = - qo_mod_i_pi.T.dot(np.log(qo_mod_i_pi + 1e-10))\n",
    "        \n",
    "        # Equation B.29, setting up the second term (p 252)\n",
    "        qs = np.outer(qs_location_action, qs_context)\n",
    "        # Reshape so we have a matrix of size(n_obs, n_states)\n",
    "        A_mod_rh = A_mod.reshape(A_mod.shape[0], -1)\n",
    "        # Equation B.29 (third line) (p 252)\n",
    "        h = -np.diag(A_mod_rh.T.dot(np.log(A_mod_rh + 1e-10)))\n",
    "        # Equation B.29 (second line, second term) (p 252)\n",
    "        second_term = h.dot(qs.ravel())\n",
    "        \n",
    "        epistemic_val[action] += first_term - second_term\n",
    "        \n",
    "        # Epistemic value for model parameters - B.34 p(253)\n",
    "        # Equation B.33 (first line) (p 253) simplified as in `pymdp.maths.spm_wnorm`\n",
    "        pA_mod = pA[i]\n",
    "        A = pA_mod + 1e-16\n",
    "        norm = 1 / np.sum(A, axis=0)\n",
    "        avg = 1 / A\n",
    "        w = norm - avg\n",
    "\n",
    "        # Equation B.34\n",
    "        make_sense = pA_mod > 0\n",
    "        w = w * make_sense.astype(float)\n",
    "        ws = w.reshape(A_mod.shape[0], -1).dot(qs.ravel())\n",
    "        val = - qo_mod_i_pi.dot(ws)\n",
    "        \n",
    "        epistemic_model_val[action] += val"
   ],
   "metadata": {
    "collapsed": false,
    "ExecuteTime": {
     "end_time": "2023-08-31T19:23:55.516596Z",
     "start_time": "2023-08-31T19:23:55.498863Z"
    }
   },
   "id": "2d119b6e6ef754c9"
  },
  {
   "cell_type": "code",
   "execution_count": 83,
   "outputs": [
    {
     "data": {
      "text/plain": "array([-4.62783828, -4.62783828, -4.62783828, -4.62783828])"
     },
     "execution_count": 83,
     "metadata": {},
     "output_type": "execute_result"
    }
   ],
   "source": [
    "pragmatic_val"
   ],
   "metadata": {
    "collapsed": false,
    "ExecuteTime": {
     "end_time": "2023-08-31T19:23:56.600171Z",
     "start_time": "2023-08-31T19:23:56.579977Z"
    }
   },
   "id": "455d7ba41765015"
  },
  {
   "cell_type": "code",
   "execution_count": 84,
   "outputs": [
    {
     "data": {
      "text/plain": "array([0.        , 0.        , 0.        , 0.69314718])"
     },
     "execution_count": 84,
     "metadata": {},
     "output_type": "execute_result"
    }
   ],
   "source": [
    "epistemic_val"
   ],
   "metadata": {
    "collapsed": false,
    "ExecuteTime": {
     "end_time": "2023-08-31T19:23:57.247067Z",
     "start_time": "2023-08-31T19:23:57.227941Z"
    }
   },
   "id": "b68fa6803501bffd"
  },
  {
   "cell_type": "code",
   "execution_count": 85,
   "outputs": [
    {
     "data": {
      "text/plain": "array([0. , 0.5, 0.5, 0. ])"
     },
     "execution_count": 85,
     "metadata": {},
     "output_type": "execute_result"
    }
   ],
   "source": [
    "epistemic_model_val"
   ],
   "metadata": {
    "collapsed": false,
    "ExecuteTime": {
     "end_time": "2023-08-31T19:23:57.804579Z",
     "start_time": "2023-08-31T19:23:57.777541Z"
    }
   },
   "id": "5c3b4fa903daf66f"
  },
  {
   "cell_type": "code",
   "execution_count": 86,
   "outputs": [
    {
     "data": {
      "text/plain": "array([-4.62783828, -4.12783828, -4.12783828, -3.9346911 ])"
     },
     "execution_count": 86,
     "metadata": {},
     "output_type": "execute_result"
    }
   ],
   "source": [
    "epistemic_val + pragmatic_val + epistemic_model_val"
   ],
   "metadata": {
    "collapsed": false,
    "ExecuteTime": {
     "end_time": "2023-08-31T19:24:07.669308Z",
     "start_time": "2023-08-31T19:24:07.648393Z"
    }
   },
   "id": "34d45bb695e054f6"
  },
  {
   "cell_type": "markdown",
   "source": [],
   "metadata": {
    "collapsed": false
   },
   "id": "4e6e9223b17b030a"
  }
 ],
 "metadata": {
  "kernelspec": {
   "display_name": "Python 3",
   "language": "python",
   "name": "python3"
  },
  "language_info": {
   "codemirror_mode": {
    "name": "ipython",
    "version": 2
   },
   "file_extension": ".py",
   "mimetype": "text/x-python",
   "name": "python",
   "nbconvert_exporter": "python",
   "pygments_lexer": "ipython2",
   "version": "2.7.6"
  }
 },
 "nbformat": 4,
 "nbformat_minor": 5
}
