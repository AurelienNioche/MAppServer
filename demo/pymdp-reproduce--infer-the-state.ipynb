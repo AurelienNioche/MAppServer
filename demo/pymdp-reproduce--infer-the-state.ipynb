{
 "cells": [
  {
   "cell_type": "code",
   "execution_count": 97,
   "id": "initial_id",
   "metadata": {
    "collapsed": true,
    "ExecuteTime": {
     "end_time": "2023-09-01T17:54:54.754357Z",
     "start_time": "2023-09-01T17:54:54.739378Z"
    }
   },
   "outputs": [],
   "source": [
    "import numpy as np\n",
    "from pymdp.envs import TMazeEnv"
   ]
  },
  {
   "cell_type": "code",
   "execution_count": 2,
   "outputs": [],
   "source": [
    "%load_ext autoreload\n",
    "%autoreload 2"
   ],
   "metadata": {
    "collapsed": false,
    "ExecuteTime": {
     "end_time": "2023-09-01T11:34:34.335943Z",
     "start_time": "2023-09-01T11:34:34.320036Z"
    }
   },
   "id": "3565b7eb36b2ffd8"
  },
  {
   "cell_type": "markdown",
   "source": [
    "*actions*: 0: CENTER, 1: RIGHT ARM, 2: LEFT ARM, 3: CUE LOCATION (bottom)\n",
    "\n",
    "*observations*: 0: LOCATION, 1: REWARD, 2: CUE\n",
    "\n",
    "*states*: 0: LOCATION, 1: CONTEXT"
   ],
   "metadata": {
    "collapsed": false
   },
   "id": "22c473c9f48c8bf4"
  },
  {
   "cell_type": "code",
   "execution_count": 4,
   "outputs": [],
   "source": [
    "env = TMazeEnv(reward_probs=[0.98, 0.02])\n",
    "A = env.get_likelihood_dist()\n",
    "B = env.get_transition_dist()"
   ],
   "metadata": {
    "collapsed": false,
    "ExecuteTime": {
     "end_time": "2023-09-01T11:35:14.059602Z",
     "start_time": "2023-09-01T11:35:13.898568Z"
    }
   },
   "id": "4c73ec1f10952b64"
  },
  {
   "cell_type": "code",
   "execution_count": 6,
   "outputs": [],
   "source": [
    "# Beliefs over the states: p(location), p(context)\n",
    "D = [np.array([1,0,0,0]),     # Knows it is in the center\n",
    "     np.array([0.5, 0.5])]    # but doesn't know the context ('reward condition')\n",
    "# Preferences over the observations: \\tilde p(Location), \\tilde p(reward), \\tilde(context)\n",
    "C = [np.array([0., 0., 0., 0.]), # Location: Doesn't matter where it is\n",
    "     np.array([ 0., 3., -3.]),   # Reward: Prefers to see reward than no reward, or punishment\n",
    "     np.array([0., 0.])]         # Cue: Doesn't matter the cue (right, left)"
   ],
   "metadata": {
    "collapsed": false,
    "ExecuteTime": {
     "end_time": "2023-09-01T11:35:18.122528Z",
     "start_time": "2023-09-01T11:35:18.106439Z"
    }
   },
   "id": "65633756507022d6"
  },
  {
   "cell_type": "code",
   "execution_count": 7,
   "outputs": [
    {
     "data": {
      "text/plain": "[0, 0, 1]"
     },
     "execution_count": 7,
     "metadata": {},
     "output_type": "execute_result"
    }
   ],
   "source": [
    "obs = env.reset() # reset the environment and get an initial observation\n",
    "obs # Location, reward, cue"
   ],
   "metadata": {
    "collapsed": false,
    "ExecuteTime": {
     "end_time": "2023-09-01T11:35:21.526940Z",
     "start_time": "2023-09-01T11:35:21.504946Z"
    }
   },
   "id": "81cb6e76f93e74ac"
  },
  {
   "cell_type": "code",
   "execution_count": 92,
   "outputs": [],
   "source": [
    "def softmax(dist):\n",
    "    \"\"\" \n",
    "    Computes the softmax function on a set of values\n",
    "    \"\"\"\n",
    "\n",
    "    output = dist - dist.max(axis=0)\n",
    "    output = np.exp(output)\n",
    "    output = output / np.sum(output, axis=0)\n",
    "    return output"
   ],
   "metadata": {
    "collapsed": false,
    "ExecuteTime": {
     "end_time": "2023-09-01T17:47:48.710148Z",
     "start_time": "2023-09-01T17:47:48.684790Z"
    }
   },
   "id": "adfe4a720e4ca08a"
  },
  {
   "cell_type": "code",
   "execution_count": 96,
   "outputs": [
    {
     "name": "stdout",
     "output_type": "stream",
     "text": [
      "factor #0\n",
      "qs[factor] [0.25 0.25 0.25 0.25]\n",
      "negH_qs -1.3862943611198901\n",
      "xH_qp 27.63102111592855\n",
      "factor #1\n",
      "qs[factor] [0.5 0.5]\n",
      "negH_qs -0.6931471805599451\n",
      "xH_qp 0.6931471805599451\n",
      "free energy 26.24472675480866\n",
      "--------------------\n",
      "Curr iter (- 1) 0\n",
      "qs after [array([1.e+00, 2.e-32, 2.e-32, 2.e-32]), array([0.5, 0.5])]\n",
      "factor #0\n",
      "qs[factor] [1.e+00 2.e-32 2.e-32 2.e-32]\n",
      "negH_qs -2.2104816892742725e-30\n",
      "xH_qp 2.2104816892742725e-30\n",
      "factor #1\n",
      "qs[factor] [0.5 0.5]\n",
      "negH_qs -0.6931471805599451\n",
      "xH_qp 0.6931471805599451\n",
      "accuracy -0.6931471805599451\n",
      "free energy 0.6931471805599451\n",
      "--------------------\n",
      "Curr iter (- 1) 1\n",
      "qs after [array([1.e+00, 2.e-32, 2.e-32, 2.e-32]), array([0.5, 0.5])]\n",
      "factor #0\n",
      "qs[factor] [1.e+00 2.e-32 2.e-32 2.e-32]\n",
      "negH_qs -2.2104816892742725e-30\n",
      "xH_qp 2.2104816892742725e-30\n",
      "factor #1\n",
      "qs[factor] [0.5 0.5]\n",
      "negH_qs -0.6931471805599451\n",
      "xH_qp 0.6931471805599451\n",
      "accuracy -0.6931471805599451\n",
      "free energy 0.6931471805599451\n"
     ]
    }
   ],
   "source": [
    "EPS = 1e-16\n",
    "\n",
    "s_location_idx = 0\n",
    "s_context_idx = 1\n",
    "qs_context = D[s_context_idx] # Equals D for the first iteration\n",
    "n_state = len(B)\n",
    "\n",
    "obs = [np.array([1., 0., 0., 0.]), np.array([1., 0., 0.]), np.array([1., 0.])]\n",
    "\n",
    "old_qs = D\n",
    "old_vfe = np.inf\n",
    "\n",
    "# n_factor => n_state\n",
    "# n_modality => n_obs\n",
    "\n",
    "# Compute joint likelihood -----\n",
    "dim_state = A[0].shape[1:]\n",
    "n_uniq_state = np.prod(dim_state)\n",
    "# Note that np.prod(A[0].shape[1:]) == np.prod(A[i].shape[1:]) for all possible i\n",
    "likelihood = np.ones(n_uniq_state)\n",
    "for i in range(len(A)): \n",
    "    likelihood *= A[i].reshape(A[i].shape[0], n_uniq_state).T.dot(obs[i])\n",
    "\n",
    "likelihood = likelihood.reshape(*dim_state)\n",
    "log_likelihood = np.log(likelihood+EPS)\n",
    "\n",
    "# ------------------------------\n",
    "\n",
    "curr_iter = 0\n",
    "num_iter = 10\n",
    "dF = 1\n",
    "dF_tol = 0.001\n",
    "\n",
    "prior = []\n",
    "qs = []  # Init posterior\n",
    "for i in range(n_state):\n",
    "    prior_i = np.log(old_qs[i] + EPS)\n",
    "    prior.append(prior_i)\n",
    "    qs.append(np.ones(len(prior_i)) / len(prior_i))\n",
    "    \n",
    "while curr_iter < num_iter and dF >= dF_tol:\n",
    "    \n",
    "    free_energy = 0\n",
    "    \n",
    "    if curr_iter > 0:\n",
    "        qs_all = np.outer(*qs)\n",
    "        ll_tensor = qs_all*log_likelihood\n",
    "        for i in range(n_state):\n",
    "            qs[i] = softmax(np.einsum(ll_tensor, np.arange(n_state), [i]) / qs[i] + prior[i])\n",
    "\n",
    "    for i in range(n_state):\n",
    "        \n",
    "        # Neg-entropy of posterior marginal H(q[f])\n",
    "        negH_qs = qs[i].dot(np.log(qs[i] + 1e-16))\n",
    "        \n",
    "        # Cross entropy of posterior marginal with prior marginal H(q[f],p[f])\n",
    "        xH_qp = -qs[i].dot(prior[i])\n",
    "        \n",
    "        free_energy += negH_qs + xH_qp\n",
    "        \n",
    "    if curr_iter > 0:\n",
    "        accuracy = np.sum(np.outer(*qs) * log_likelihood)\n",
    "        free_energy -= accuracy\n",
    "    \n",
    "    dF = np.abs(free_energy - old_vfe)\n",
    "    old_vfe = free_energy\n",
    "    curr_iter += 1"
   ],
   "metadata": {
    "collapsed": false,
    "ExecuteTime": {
     "end_time": "2023-09-01T17:53:01.945689Z",
     "start_time": "2023-09-01T17:53:01.912029Z"
    }
   },
   "id": "2d119b6e6ef754c9"
  },
  {
   "cell_type": "code",
   "execution_count": null,
   "outputs": [],
   "source": [],
   "metadata": {
    "collapsed": false
   },
   "id": "74b568559ce30e9d"
  }
 ],
 "metadata": {
  "kernelspec": {
   "display_name": "Python 3",
   "language": "python",
   "name": "python3"
  },
  "language_info": {
   "codemirror_mode": {
    "name": "ipython",
    "version": 2
   },
   "file_extension": ".py",
   "mimetype": "text/x-python",
   "name": "python",
   "nbconvert_exporter": "python",
   "pygments_lexer": "ipython2",
   "version": "2.7.6"
  }
 },
 "nbformat": 4,
 "nbformat_minor": 5
}
