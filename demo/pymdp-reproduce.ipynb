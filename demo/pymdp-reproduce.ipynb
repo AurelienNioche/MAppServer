{
 "cells": [
  {
   "cell_type": "code",
   "execution_count": 21,
   "id": "initial_id",
   "metadata": {
    "collapsed": true,
    "ExecuteTime": {
     "end_time": "2023-08-30T15:20:25.570326Z",
     "start_time": "2023-08-30T15:20:25.549931Z"
    }
   },
   "outputs": [],
   "source": [
    "import numpy as np\n",
    "from pymdp.envs import TMazeEnv\n",
    "\n",
    "import matplotlib.pyplot as plt"
   ]
  },
  {
   "cell_type": "code",
   "execution_count": 22,
   "outputs": [
    {
     "name": "stdout",
     "output_type": "stream",
     "text": [
      "The autoreload extension is already loaded. To reload it, use:\n",
      "  %reload_ext autoreload\n"
     ]
    }
   ],
   "source": [
    "%load_ext autoreload\n",
    "%autoreload 2"
   ],
   "metadata": {
    "collapsed": false,
    "ExecuteTime": {
     "end_time": "2023-08-30T15:20:25.889696Z",
     "start_time": "2023-08-30T15:20:25.868548Z"
    }
   },
   "id": "3565b7eb36b2ffd8"
  },
  {
   "cell_type": "code",
   "execution_count": 23,
   "outputs": [],
   "source": [
    "env = TMazeEnv(reward_probs=[0.98, 0.02])\n",
    "A = env.get_likelihood_dist()\n",
    "B = env.get_transition_dist()"
   ],
   "metadata": {
    "collapsed": false,
    "ExecuteTime": {
     "end_time": "2023-08-30T15:20:26.329799Z",
     "start_time": "2023-08-30T15:20:26.315804Z"
    }
   },
   "id": "4c73ec1f10952b64"
  },
  {
   "cell_type": "markdown",
   "source": [
    "A_gp[i][j, k, l] In context l, for the modality i, if agent takes action j, what is the probability of observing k?,"
   ],
   "metadata": {
    "collapsed": false
   },
   "id": "6c7226a2e2c808ba"
  },
  {
   "cell_type": "code",
   "execution_count": 25,
   "outputs": [
    {
     "name": "stdout",
     "output_type": "stream",
     "text": [
      "3\n"
     ]
    }
   ],
   "source": [
    "print(len(A))  # For the 3 types of observations: Location, reward, cue"
   ],
   "metadata": {
    "collapsed": false,
    "ExecuteTime": {
     "end_time": "2023-08-30T15:41:36.129357Z",
     "start_time": "2023-08-30T15:41:36.107417Z"
    }
   },
   "id": "9b12f2d498092884"
  },
  {
   "cell_type": "code",
   "execution_count": 17,
   "outputs": [
    {
     "name": "stdout",
     "output_type": "stream",
     "text": [
      "[[1. 0. 0. 0.]\n",
      " [0. 1. 0. 0.]\n",
      " [0. 0. 1. 0.]\n",
      " [0. 0. 0. 1.]]\n"
     ]
    }
   ],
   "source": [
    "# Likelihood for location:  p(location | location, context)\n",
    "print(A[0][:,:,0])  # Location, location, context (reward condition)"
   ],
   "metadata": {
    "collapsed": false,
    "ExecuteTime": {
     "end_time": "2023-08-30T15:18:25.208212Z",
     "start_time": "2023-08-30T15:18:25.188521Z"
    }
   },
   "id": "b19a37e0b2e4e4be"
  },
  {
   "cell_type": "code",
   "execution_count": 26,
   "outputs": [
    {
     "name": "stdout",
     "output_type": "stream",
     "text": [
      "[[1.   0.   0.   1.  ]\n",
      " [0.   0.98 0.02 0.  ]\n",
      " [0.   0.02 0.98 0.  ]]\n"
     ]
    }
   ],
   "source": [
    "# Likelihood for reward: p(reward | location, context)\n",
    "print(A[1][:,:,0])  # Reward, location, context (reward condition)\n"
   ],
   "metadata": {
    "collapsed": false,
    "ExecuteTime": {
     "end_time": "2023-08-30T15:46:35.773084Z",
     "start_time": "2023-08-30T15:46:35.749781Z"
    }
   },
   "id": "b5aee541a5972525"
  },
  {
   "cell_type": "code",
   "execution_count": 59,
   "outputs": [
    {
     "name": "stdout",
     "output_type": "stream",
     "text": [
      "[[0.5 0.5 0.5 1. ]\n",
      " [0.5 0.5 0.5 0. ]]\n"
     ]
    }
   ],
   "source": [
    "# Likelihood for cue: p(cue | location, context)\n",
    "print(A[2][:,:,0]) "
   ],
   "metadata": {
    "collapsed": false,
    "ExecuteTime": {
     "end_time": "2023-08-30T17:18:56.183637Z",
     "start_time": "2023-08-30T17:18:56.164747Z"
    }
   },
   "id": "a0e4ad80c52bcc68"
  },
  {
   "cell_type": "code",
   "execution_count": 31,
   "outputs": [
    {
     "name": "stdout",
     "output_type": "stream",
     "text": [
      "2\n"
     ]
    }
   ],
   "source": [
    "print(len(B))  # For the 2 types of transitions: location, context"
   ],
   "metadata": {
    "collapsed": false,
    "ExecuteTime": {
     "end_time": "2023-08-30T16:01:56.223607Z",
     "start_time": "2023-08-30T16:01:56.201897Z"
    }
   },
   "id": "15d24134d0a14e19"
  },
  {
   "cell_type": "code",
   "execution_count": 39,
   "outputs": [
    {
     "data": {
      "text/plain": "(4, 4, 4)"
     },
     "execution_count": 39,
     "metadata": {},
     "output_type": "execute_result"
    }
   ],
   "source": [
    "B[0].shape  # p(location | location, action) Location, location location/action"
   ],
   "metadata": {
    "collapsed": false,
    "ExecuteTime": {
     "end_time": "2023-08-30T16:46:42.937684Z",
     "start_time": "2023-08-30T16:46:42.918116Z"
    }
   },
   "id": "5c36db413aee59ef"
  },
  {
   "cell_type": "code",
   "execution_count": 44,
   "outputs": [
    {
     "data": {
      "text/plain": "array([1., 1., 1., 1.])"
     },
     "execution_count": 44,
     "metadata": {},
     "output_type": "execute_result"
    }
   ],
   "source": [
    "B[0][0, :, 0]  # Probability of going center, depending on where you are and that you choose to go to center => \n",
    "# You're certain you'll end up in center wherever you are"
   ],
   "metadata": {
    "collapsed": false,
    "ExecuteTime": {
     "end_time": "2023-08-30T16:48:50.985454Z",
     "start_time": "2023-08-30T16:48:50.963306Z"
    }
   },
   "id": "c90391d1d439f248"
  },
  {
   "cell_type": "code",
   "execution_count": 41,
   "outputs": [
    {
     "data": {
      "text/plain": "(2, 2, 1)"
     },
     "execution_count": 41,
     "metadata": {},
     "output_type": "execute_result"
    }
   ],
   "source": [
    "B[1].shape  # p(context | context, dummy action)"
   ],
   "metadata": {
    "collapsed": false,
    "ExecuteTime": {
     "end_time": "2023-08-30T16:47:23.350214Z",
     "start_time": "2023-08-30T16:47:23.335906Z"
    }
   },
   "id": "b7249a6412701a46"
  },
  {
   "cell_type": "code",
   "execution_count": 27,
   "outputs": [],
   "source": [
    "# Beliefs over the states: p(location), p(context)\n",
    "D = [np.array([1,0,0,0]),     # Knows it is in the center\n",
    "     np.array([0.5, 0.5])]    #  but doesn't know the reward condition\n",
    "# Preferences over the observations: \\tilde p(Location), \\tilde p(reward), \\tilde(context)\n",
    "C = [np.array([0., 0., 0., 0.]), # Doesn't matter where it is\n",
    "     np.array([ 0., 3., -3.]),   # Prefers to see reward than no reward, or punishment\n",
    "     np.array([0., 0.])]         # Doesn't matter the context"
   ],
   "metadata": {
    "collapsed": false,
    "ExecuteTime": {
     "end_time": "2023-08-30T15:46:36.513839Z",
     "start_time": "2023-08-30T15:46:36.482225Z"
    }
   },
   "id": "65633756507022d6"
  },
  {
   "cell_type": "code",
   "execution_count": 28,
   "outputs": [
    {
     "data": {
      "text/plain": "[0, 0, 1]"
     },
     "execution_count": 28,
     "metadata": {},
     "output_type": "execute_result"
    }
   ],
   "source": [
    "obs = env.reset() # reset the environment and get an initial observation\n",
    "obs # Location, reward, cue"
   ],
   "metadata": {
    "collapsed": false,
    "ExecuteTime": {
     "end_time": "2023-08-30T15:46:37.147991Z",
     "start_time": "2023-08-30T15:46:37.128494Z"
    }
   },
   "id": "81cb6e76f93e74ac"
  },
  {
   "cell_type": "markdown",
   "source": [
    "CENTER, RIGHT ARM, LEFT ARM, or CUE LOCATION"
   ],
   "metadata": {
    "collapsed": false
   },
   "id": "22c473c9f48c8bf4"
  },
  {
   "cell_type": "markdown",
   "source": [
    "`A_gp[i][j, k, l]`\n",
    "In context `l`, for the modality `i`, if agent takes action `j`, what is the probability of observing `k`?, "
   ],
   "metadata": {
    "collapsed": false
   },
   "id": "6c4cf8a518230180"
  },
  {
   "cell_type": "code",
   "execution_count": 60,
   "outputs": [],
   "source": [
    "interactable = 0  # Can act on location but not context\n",
    "all_actions = np.arange(4, dtype=int)\n",
    "\n",
    "qlocation_pi = np.zeros((4, 4))\n",
    "for action in all_actions:\n",
    "     qlocation_pi[action] = B[interactable][:,:, action].dot(D[interactable])\n",
    " \n",
    "         "
   ],
   "metadata": {
    "collapsed": false,
    "ExecuteTime": {
     "end_time": "2023-08-30T17:22:21.471641Z",
     "start_time": "2023-08-30T17:22:21.450514Z"
    }
   },
   "id": "84cc89ecd7147669"
  },
  {
   "cell_type": "code",
   "execution_count": null,
   "outputs": [],
   "source": [],
   "metadata": {
    "collapsed": false
   },
   "id": "d7a32bd2d0070f31"
  },
  {
   "cell_type": "code",
   "execution_count": 72,
   "outputs": [
    {
     "name": "stdout",
     "output_type": "stream",
     "text": [
      "[[1.  0.  0.  1. ]\n",
      " [0.  0.5 0.5 0. ]\n",
      " [0.  0.5 0.5 0. ]]\n"
     ]
    }
   ],
   "source": [
    "qreward = A[1][:,:,:].dot(D[1]).dot(qlocation_pi)\n",
    "print(qreward)"
   ],
   "metadata": {
    "collapsed": false,
    "ExecuteTime": {
     "end_time": "2023-08-30T17:29:39.379509Z",
     "start_time": "2023-08-30T17:29:39.364504Z"
    }
   },
   "id": "56a7dae295024486"
  },
  {
   "cell_type": "code",
   "execution_count": 80,
   "outputs": [
    {
     "data": {
      "text/plain": "array([ 0.,  3., -3.])"
     },
     "execution_count": 80,
     "metadata": {},
     "output_type": "execute_result"
    }
   ],
   "source": [
    "C[1]"
   ],
   "metadata": {
    "collapsed": false,
    "ExecuteTime": {
     "end_time": "2023-08-30T17:34:35.003463Z",
     "start_time": "2023-08-30T17:34:34.979108Z"
    }
   },
   "id": "216de70ff1b28ed7"
  },
  {
   "cell_type": "code",
   "execution_count": 84,
   "outputs": [],
   "source": [
    "def softmax(dist):\n",
    "    \"\"\" \n",
    "    Computes the softmax function on a set of values\n",
    "    \"\"\"\n",
    "\n",
    "    output = dist - dist.max(axis=0)\n",
    "    output = np.exp(output)\n",
    "    output = output / np.sum(output, axis=0)\n",
    "    return output"
   ],
   "metadata": {
    "collapsed": false,
    "ExecuteTime": {
     "end_time": "2023-08-30T17:38:53.379843Z",
     "start_time": "2023-08-30T17:38:53.356540Z"
    }
   },
   "id": "adfe4a720e4ca08a"
  },
  {
   "cell_type": "code",
   "execution_count": 86,
   "outputs": [
    {
     "data": {
      "text/plain": "array([0.04731416, 0.95033021, 0.00235563])"
     },
     "execution_count": 86,
     "metadata": {},
     "output_type": "execute_result"
    }
   ],
   "source": [
    "C1 = softmax(C[1])\n",
    "C1"
   ],
   "metadata": {
    "collapsed": false,
    "ExecuteTime": {
     "end_time": "2023-08-30T17:39:39.189067Z",
     "start_time": "2023-08-30T17:39:39.164911Z"
    }
   },
   "id": "d5492880c09ac129"
  },
  {
   "cell_type": "code",
   "execution_count": 91,
   "outputs": [
    {
     "data": {
      "text/plain": "array([-3.05094576, -3.05094576, -3.05094576, -3.05094576])"
     },
     "execution_count": 91,
     "metadata": {},
     "output_type": "execute_result"
    }
   ],
   "source": [
    "qreward.T.dot(np.log(C1))  # Pragmatic value (\"expected reward\")"
   ],
   "metadata": {
    "collapsed": false,
    "ExecuteTime": {
     "end_time": "2023-08-30T17:43:41.498819Z",
     "start_time": "2023-08-30T17:43:41.476181Z"
    }
   },
   "id": "7eb5c34247ac8b6b"
  },
  {
   "cell_type": "code",
   "execution_count": null,
   "outputs": [],
   "source": [],
   "metadata": {
    "collapsed": false
   },
   "id": "2d119b6e6ef754c9"
  }
 ],
 "metadata": {
  "kernelspec": {
   "display_name": "Python 3",
   "language": "python",
   "name": "python3"
  },
  "language_info": {
   "codemirror_mode": {
    "name": "ipython",
    "version": 2
   },
   "file_extension": ".py",
   "mimetype": "text/x-python",
   "name": "python",
   "nbconvert_exporter": "python",
   "pygments_lexer": "ipython2",
   "version": "2.7.6"
  }
 },
 "nbformat": 4,
 "nbformat_minor": 5
}
