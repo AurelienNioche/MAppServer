{
 "cells": [
  {
   "cell_type": "code",
   "execution_count": 1,
   "id": "initial_id",
   "metadata": {
    "collapsed": true,
    "ExecuteTime": {
     "end_time": "2023-08-31T15:28:50.413324Z",
     "start_time": "2023-08-31T15:28:49.716062Z"
    }
   },
   "outputs": [],
   "source": [
    "import numpy as np\n",
    "from pymdp.envs import TMazeEnv"
   ]
  },
  {
   "cell_type": "code",
   "execution_count": 2,
   "outputs": [],
   "source": [
    "%load_ext autoreload\n",
    "%autoreload 2"
   ],
   "metadata": {
    "collapsed": false,
    "ExecuteTime": {
     "end_time": "2023-08-31T15:28:50.885881Z",
     "start_time": "2023-08-31T15:28:50.871132Z"
    }
   },
   "id": "3565b7eb36b2ffd8"
  },
  {
   "cell_type": "code",
   "execution_count": 3,
   "outputs": [],
   "source": [
    "env = TMazeEnv(reward_probs=[0.98, 0.02])\n",
    "A = env.get_likelihood_dist()\n",
    "B = env.get_transition_dist()"
   ],
   "metadata": {
    "collapsed": false,
    "ExecuteTime": {
     "end_time": "2023-08-31T15:28:51.145350Z",
     "start_time": "2023-08-31T15:28:51.129882Z"
    }
   },
   "id": "4c73ec1f10952b64"
  },
  {
   "cell_type": "markdown",
   "source": [
    "A[i][j, k, l] for the modality i, in location (understood as a state) k and context l, what is the probability of \n",
    "observing location (understood as an observation) j?"
   ],
   "metadata": {
    "collapsed": false
   },
   "id": "6c7226a2e2c808ba"
  },
  {
   "cell_type": "code",
   "execution_count": 4,
   "outputs": [
    {
     "name": "stdout",
     "output_type": "stream",
     "text": [
      "3\n"
     ]
    }
   ],
   "source": [
    "# A is the set of the likelihood distributions for each type of observation\n",
    "# There are 3 types of observations: Location, reward, cue\n",
    "n_obs = len(A) \n",
    "print(n_obs)"
   ],
   "metadata": {
    "collapsed": false,
    "ExecuteTime": {
     "end_time": "2023-08-31T15:28:52.027616Z",
     "start_time": "2023-08-31T15:28:52.010994Z"
    }
   },
   "id": "9b12f2d498092884"
  },
  {
   "cell_type": "code",
   "execution_count": 5,
   "outputs": [
    {
     "name": "stdout",
     "output_type": "stream",
     "text": [
      "[[1. 0. 0. 0.]\n",
      " [0. 1. 0. 0.]\n",
      " [0. 0. 1. 0.]\n",
      " [0. 0. 0. 1.]]\n"
     ]
    }
   ],
   "source": [
    "# Likelihood for location:  p(location | location, context)\n",
    "print(A[0][:,:,0])  # Location, location, context (reward condition)"
   ],
   "metadata": {
    "collapsed": false,
    "ExecuteTime": {
     "end_time": "2023-08-31T15:28:52.403563Z",
     "start_time": "2023-08-31T15:28:52.388669Z"
    }
   },
   "id": "b19a37e0b2e4e4be"
  },
  {
   "cell_type": "code",
   "execution_count": 6,
   "outputs": [
    {
     "name": "stdout",
     "output_type": "stream",
     "text": [
      "[[1.   0.   0.   1.  ]\n",
      " [0.   0.98 0.02 0.  ]\n",
      " [0.   0.02 0.98 0.  ]]\n"
     ]
    }
   ],
   "source": [
    "# Likelihood for reward: p(reward | location, context)\n",
    "print(A[1][:,:,0])  # Reward, location, context (reward condition)\n"
   ],
   "metadata": {
    "collapsed": false,
    "ExecuteTime": {
     "end_time": "2023-08-31T15:28:52.786618Z",
     "start_time": "2023-08-31T15:28:52.770098Z"
    }
   },
   "id": "b5aee541a5972525"
  },
  {
   "cell_type": "code",
   "execution_count": 7,
   "outputs": [
    {
     "name": "stdout",
     "output_type": "stream",
     "text": [
      "[[0.5 0.5 0.5 1. ]\n",
      " [0.5 0.5 0.5 0. ]]\n"
     ]
    }
   ],
   "source": [
    "# Likelihood for cue: p(cue | location, context)\n",
    "print(A[2][:,:,0]) "
   ],
   "metadata": {
    "collapsed": false,
    "ExecuteTime": {
     "end_time": "2023-08-31T15:28:53.158313Z",
     "start_time": "2023-08-31T15:28:53.143718Z"
    }
   },
   "id": "a0e4ad80c52bcc68"
  },
  {
   "cell_type": "code",
   "execution_count": 8,
   "outputs": [
    {
     "name": "stdout",
     "output_type": "stream",
     "text": [
      "2\n"
     ]
    }
   ],
   "source": [
    "n_state = len(B)\n",
    "print(n_state)  # For the 2 types of transitions for each state: location, context"
   ],
   "metadata": {
    "collapsed": false,
    "ExecuteTime": {
     "end_time": "2023-08-31T15:28:53.536723Z",
     "start_time": "2023-08-31T15:28:53.521922Z"
    }
   },
   "id": "15d24134d0a14e19"
  },
  {
   "cell_type": "code",
   "execution_count": 9,
   "outputs": [
    {
     "data": {
      "text/plain": "(4, 4, 4)"
     },
     "execution_count": 9,
     "metadata": {},
     "output_type": "execute_result"
    }
   ],
   "source": [
    "B[0].shape  # p(location | location, action) Location, location location/action"
   ],
   "metadata": {
    "collapsed": false,
    "ExecuteTime": {
     "end_time": "2023-08-31T15:28:54.037970Z",
     "start_time": "2023-08-31T15:28:54.018Z"
    }
   },
   "id": "5c36db413aee59ef"
  },
  {
   "cell_type": "code",
   "execution_count": 10,
   "outputs": [
    {
     "data": {
      "text/plain": "array([1., 1., 1., 1.])"
     },
     "execution_count": 10,
     "metadata": {},
     "output_type": "execute_result"
    }
   ],
   "source": [
    "B[0][0, :, 0]  # Probability of going center, depending on where you are and that you choose to go to center => \n",
    "# You're certain you'll end up in center wherever you are"
   ],
   "metadata": {
    "collapsed": false,
    "ExecuteTime": {
     "end_time": "2023-08-31T15:28:54.501467Z",
     "start_time": "2023-08-31T15:28:54.484837Z"
    }
   },
   "id": "c90391d1d439f248"
  },
  {
   "cell_type": "code",
   "execution_count": 11,
   "outputs": [
    {
     "data": {
      "text/plain": "(2, 2, 1)"
     },
     "execution_count": 11,
     "metadata": {},
     "output_type": "execute_result"
    }
   ],
   "source": [
    "B[1].shape  # p(context | context, dummy action)"
   ],
   "metadata": {
    "collapsed": false,
    "ExecuteTime": {
     "end_time": "2023-08-31T15:28:54.974855Z",
     "start_time": "2023-08-31T15:28:54.957803Z"
    }
   },
   "id": "b7249a6412701a46"
  },
  {
   "cell_type": "code",
   "execution_count": 12,
   "outputs": [],
   "source": [
    "# Beliefs over the states: p(location), p(context)\n",
    "D = [np.array([1,0,0,0]),     # Knows it is in the center\n",
    "     np.array([0.5, 0.5])]    # but doesn't know the context ('reward condition')\n",
    "# Preferences over the observations: \\tilde p(Location), \\tilde p(reward), \\tilde(context)\n",
    "C = [np.array([0., 0., 0., 0.]), # Location: Doesn't matter where it is\n",
    "     np.array([ 0., 3., -3.]),   # Reward: Prefers to see reward than no reward, or punishment\n",
    "     np.array([0., 0.])]         # Cue: Doesn't matter the cue"
   ],
   "metadata": {
    "collapsed": false,
    "ExecuteTime": {
     "end_time": "2023-08-31T15:28:55.359986Z",
     "start_time": "2023-08-31T15:28:55.345822Z"
    }
   },
   "id": "65633756507022d6"
  },
  {
   "cell_type": "code",
   "execution_count": 13,
   "outputs": [
    {
     "data": {
      "text/plain": "[0, 0, 0]"
     },
     "execution_count": 13,
     "metadata": {},
     "output_type": "execute_result"
    }
   ],
   "source": [
    "obs = env.reset() # reset the environment and get an initial observation\n",
    "obs # Location, reward, cue"
   ],
   "metadata": {
    "collapsed": false,
    "ExecuteTime": {
     "end_time": "2023-08-31T15:28:55.749612Z",
     "start_time": "2023-08-31T15:28:55.734067Z"
    }
   },
   "id": "81cb6e76f93e74ac"
  },
  {
   "cell_type": "markdown",
   "source": [
    "*actions*: 0: CENTER, 1: RIGHT ARM, 2: LEFT ARM, 3: CUE LOCATION (bottom)\n",
    "\n",
    "*observations*: 0: LOCATION, 1: REWARD, 2: CUE\n",
    "\n",
    "*states*: 0: LOCATION, 1: CONTEXT"
   ],
   "metadata": {
    "collapsed": false
   },
   "id": "22c473c9f48c8bf4"
  },
  {
   "cell_type": "markdown",
   "source": [
    "`A_gp[i][j, k, l]`\n",
    "In context `l`, for the modality `i`, if agent takes action `j`, what is the probability of observing `k`?, "
   ],
   "metadata": {
    "collapsed": false
   },
   "id": "6c4cf8a518230180"
  },
  {
   "cell_type": "code",
   "execution_count": 14,
   "outputs": [],
   "source": [
    "def softmax(dist):\n",
    "    \"\"\" \n",
    "    Computes the softmax function on a set of values\n",
    "    \"\"\"\n",
    "\n",
    "    output = dist - dist.max(axis=0)\n",
    "    output = np.exp(output)\n",
    "    output = output / np.sum(output, axis=0)\n",
    "    return output"
   ],
   "metadata": {
    "collapsed": false,
    "ExecuteTime": {
     "end_time": "2023-08-31T15:28:57.238612Z",
     "start_time": "2023-08-31T15:28:57.223479Z"
    }
   },
   "id": "adfe4a720e4ca08a"
  },
  {
   "cell_type": "code",
   "execution_count": 15,
   "outputs": [],
   "source": [
    "s_location_idx = 0\n",
    "s_context_idx = 1\n",
    "qs_context = D[s_context_idx] # Equals D for the first iteration\n",
    "\n",
    "have_preference = [np.all(C[i] == 0.) == False for i in range(len(C))]\n",
    "\n",
    "n_action = len(B[s_location_idx][0,0,:])\n",
    "\n",
    "epistemic_val = np.zeros(n_action)\n",
    "pragmatic_val = np.zeros(n_action)\n",
    "for action in range(n_action):\n",
    "    \n",
    "    qs_location_action = B[s_location_idx][:,:, action].dot(D[s_location_idx])\n",
    "    \n",
    "    for i in range(n_obs):\n",
    "        \n",
    "        A_mod = A[i]\n",
    "        \n",
    "        # Equation B.28 (third line) (p 252)\n",
    "        qo_mod_i_pi = A_mod[:,:,:].dot(qs_context).dot(qs_location_action)\n",
    "        \n",
    "        # Pragmatic value - Equation B.28\n",
    "        if have_preference[i]:\n",
    "            soft_c = softmax(C[i])\n",
    "            # Equation B.28 (first line) (p 252)\n",
    "            pragmatic_val[action] += qo_mod_i_pi.T.dot(np.log(soft_c))\n",
    "        \n",
    "        # Epistemic value - Equation B.29\n",
    "        # Equation B.29 (second line, first term) (p 252)\n",
    "        first_term = - qo_mod_i_pi.T.dot(np.log(qo_mod_i_pi + 1e-10))\n",
    "        \n",
    "        # Equation B.29, setting up the second term (p 252)\n",
    "        qs = np.outer(qs_location_action, qs_context)\n",
    "        A_mod = A_mod.reshape(A_mod.shape[0], -1)\n",
    "        # Equation B.29 (third line) (p 252)\n",
    "        h = -np.diag(A_mod.T.dot(np.log(A_mod + 1e-10)))\n",
    "        # Equation B.29 (second line, second term) (p 252)\n",
    "        second_term = h.dot(qs.ravel())\n",
    "        \n",
    "        epistemic_val[action] += first_term - second_term"
   ],
   "metadata": {
    "collapsed": false,
    "ExecuteTime": {
     "end_time": "2023-08-31T15:28:57.725704Z",
     "start_time": "2023-08-31T15:28:57.706156Z"
    }
   },
   "id": "2d119b6e6ef754c9"
  },
  {
   "cell_type": "code",
   "execution_count": 16,
   "outputs": [
    {
     "data": {
      "text/plain": "array([0.        , 0.59510807, 0.59510807, 0.69314718])"
     },
     "execution_count": 16,
     "metadata": {},
     "output_type": "execute_result"
    }
   ],
   "source": [
    "epistemic_val"
   ],
   "metadata": {
    "collapsed": false,
    "ExecuteTime": {
     "end_time": "2023-08-31T15:28:58.305957Z",
     "start_time": "2023-08-31T15:28:58.288355Z"
    }
   },
   "id": "b68fa6803501bffd"
  },
  {
   "cell_type": "code",
   "execution_count": 17,
   "outputs": [
    {
     "data": {
      "text/plain": "array([-3.05094576, -3.05094576, -3.05094576, -3.05094576])"
     },
     "execution_count": 17,
     "metadata": {},
     "output_type": "execute_result"
    }
   ],
   "source": [
    "pragmatic_val"
   ],
   "metadata": {
    "collapsed": false,
    "ExecuteTime": {
     "end_time": "2023-08-31T15:28:58.777935Z",
     "start_time": "2023-08-31T15:28:58.761481Z"
    }
   },
   "id": "455d7ba41765015"
  },
  {
   "cell_type": "code",
   "execution_count": 18,
   "outputs": [
    {
     "data": {
      "text/plain": "array([-3.05094576, -2.4558377 , -2.4558377 , -2.35779858])"
     },
     "execution_count": 18,
     "metadata": {},
     "output_type": "execute_result"
    }
   ],
   "source": [
    "epistemic_val + pragmatic_val"
   ],
   "metadata": {
    "collapsed": false,
    "ExecuteTime": {
     "end_time": "2023-08-31T15:28:59.399428Z",
     "start_time": "2023-08-31T15:28:59.379177Z"
    }
   },
   "id": "34d45bb695e054f6"
  },
  {
   "cell_type": "markdown",
   "source": [],
   "metadata": {
    "collapsed": false
   },
   "id": "4e6e9223b17b030a"
  }
 ],
 "metadata": {
  "kernelspec": {
   "display_name": "Python 3",
   "language": "python",
   "name": "python3"
  },
  "language_info": {
   "codemirror_mode": {
    "name": "ipython",
    "version": 2
   },
   "file_extension": ".py",
   "mimetype": "text/x-python",
   "name": "python",
   "nbconvert_exporter": "python",
   "pygments_lexer": "ipython2",
   "version": "2.7.6"
  }
 },
 "nbformat": 4,
 "nbformat_minor": 5
}
