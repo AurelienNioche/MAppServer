{
 "cells": [
  {
   "cell_type": "code",
   "execution_count": 56,
   "id": "initial_id",
   "metadata": {
    "collapsed": true,
    "ExecuteTime": {
     "end_time": "2023-08-30T15:18:49.059854Z",
     "start_time": "2023-08-30T15:18:49.044268Z"
    }
   },
   "outputs": [],
   "source": [
    "import numpy as np\n",
    "from pymdp.agent import Agent\n",
    "from pymdp.utils import plot_beliefs, plot_likelihood\n",
    "from pymdp import utils\n",
    "from pymdp.envs import TMazeEnv\n",
    "import copy\n",
    "\n",
    "import matplotlib.pyplot as plt\n",
    "\n",
    "%load_ext autoreload\n",
    "%autoreload 2"
   ]
  },
  {
   "cell_type": "code",
   "execution_count": 56,
   "outputs": [],
   "source": [],
   "metadata": {
    "collapsed": false,
    "ExecuteTime": {
     "end_time": "2023-08-30T15:18:49.575976Z",
     "start_time": "2023-08-30T15:18:49.571030Z"
    }
   },
   "id": "f0429f61f974a0ae"
  },
  {
   "cell_type": "code",
   "execution_count": 57,
   "outputs": [],
   "source": [
    "reward_probabilities = [0.98, 0.02] \n",
    "env = TMazeEnv(reward_probs = reward_probabilities)"
   ],
   "metadata": {
    "collapsed": false,
    "ExecuteTime": {
     "end_time": "2023-08-30T15:18:49.996554Z",
     "start_time": "2023-08-30T15:18:49.981059Z"
    }
   },
   "id": "4c73ec1f10952b64"
  },
  {
   "cell_type": "code",
   "execution_count": 58,
   "outputs": [],
   "source": [
    "A_gp = env.get_likelihood_dist()\n",
    "B_gp = env.get_transition_dist()"
   ],
   "metadata": {
    "collapsed": false,
    "ExecuteTime": {
     "end_time": "2023-08-30T15:18:50.334168Z",
     "start_time": "2023-08-30T15:18:50.316071Z"
    }
   },
   "id": "d26b4c1838733167"
  },
  {
   "cell_type": "markdown",
   "source": [
    "`A_gp[i][j, k, l]`\n",
    "In context `l`, for the modality `i`, if agent takes action `j`, what is the probability of observing `k`?, "
   ],
   "metadata": {
    "collapsed": false
   },
   "id": "6c4cf8a518230180"
  },
  {
   "cell_type": "code",
   "execution_count": 75,
   "outputs": [
    {
     "name": "stdout",
     "output_type": "stream",
     "text": [
      " === Starting experiment === \n",
      " Reward condition: Right, Observation: [CENTER, No reward, Cue Right]\n",
      "[array([1.e+00, 2.e-32, 2.e-32, 2.e-32]) array([0.5, 0.5])]\n",
      "None\n",
      "action [3. 0.]\n",
      "[Step 0] Action: [Move to CUE LOCATION]\n",
      "[Step 0] Observation: [CUE LOCATION,  No reward, Cue Right]\n"
     ]
    }
   ],
   "source": [
    "reward_probabilities = [0.98, 0.02] # \n",
    "env = TMazeEnv(reward_probs=reward_probabilities)# probabilities used in the original SPM T\n",
    "\n",
    "A_gp = env.get_likelihood_dist()\n",
    "B_gp = env.get_transition_dist()\n",
    "\n",
    "A_gm = copy.deepcopy(A_gp) # make a copy of the true observation likelihood to initialize the observation model\n",
    "B_gm = copy.deepcopy(B_gp) # make a copy of the true transition likelihood to initialize the transition\n",
    "\n",
    "agent = Agent(A=A_gm, B=B_gm, control_fac_idx=[0,])\n",
    "agent.D[0] = utils.onehot(0, agent.num_states[0])\n",
    "agent.C[1][1] = 3.0\n",
    "agent.C[1][2] = -3.0\n",
    "\n",
    "T = 5 # number of timesteps\n",
    "\n",
    "obs = env.reset() # reset the environment and get an initial observation\n",
    "\n",
    "# these are useful for displaying read-outs during the loop over time\n",
    "reward_conditions = [\"Right\", \"Left\"]\n",
    "location_observations = ['CENTER','RIGHT ARM','LEFT ARM','CUE LOCATION']\n",
    "reward_observations = ['No reward','Reward!','Loss!']\n",
    "cue_observations = ['Cue Right','Cue Left']\n",
    "\n",
    "msg = \"\"\" === Starting experiment === \\n Reward condition: {}, Observation: [{}, {}, {}]\"\"\"\n",
    "print(msg.format(reward_conditions[env.reward_condition], location_observations[obs[0]], reward_observations[obs[1]], cue_observations[obs[2]]))\n",
    "\n",
    "for t in range(T):\n",
    "    qx = agent.infer_states(obs)\n",
    "    print(qx)\n",
    "    print(agent.action)\n",
    "    q_pi, efe = agent.infer_policies()\n",
    "\n",
    "    action = agent.sample_action()\n",
    "    print(\"action\", action)\n",
    "\n",
    "    msg = \"\"\"[Step {}] Action: [Move to {}]\"\"\"\n",
    "    print(msg.format(t, location_observations[int(action[0])]))\n",
    "\n",
    "    obs = env.step(action)\n",
    "\n",
    "    msg = \"\"\"[Step {}] Observation: [{},  {}, {}]\"\"\"\n",
    "    print(msg.format(t, location_observations[obs[0]], reward_observations[obs[1]], cue_observations[obs[2]]))\n",
    "    break"
   ],
   "metadata": {
    "collapsed": false,
    "ExecuteTime": {
     "end_time": "2023-08-30T15:36:06.988376Z",
     "start_time": "2023-08-30T15:36:06.965516Z"
    }
   },
   "id": "3e16b059476c5d38"
  },
  {
   "cell_type": "code",
   "execution_count": 74,
   "outputs": [
    {
     "name": "stdout",
     "output_type": "stream",
     "text": [
      "[array([[0, 0]]), array([[1, 0]]), array([[2, 0]]), array([[3, 0]])]\n"
     ]
    }
   ],
   "source": [
    "print(agent.policies)"
   ],
   "metadata": {
    "collapsed": false,
    "ExecuteTime": {
     "end_time": "2023-08-30T15:33:01.929311Z",
     "start_time": "2023-08-30T15:33:01.908820Z"
    }
   },
   "id": "f6510229360390ab"
  },
  {
   "cell_type": "code",
   "execution_count": 76,
   "outputs": [],
   "source": [
    "self = agent"
   ],
   "metadata": {
    "collapsed": false,
    "ExecuteTime": {
     "end_time": "2023-08-30T15:38:06.711224Z",
     "start_time": "2023-08-30T15:38:06.689893Z"
    }
   },
   "id": "25fe0344da83f1c2"
  },
  {
   "cell_type": "code",
   "execution_count": 77,
   "outputs": [
    {
     "data": {
      "text/plain": "([4, 2], [4, 1], 1, [0])"
     },
     "execution_count": 77,
     "metadata": {},
     "output_type": "execute_result"
    }
   ],
   "source": [
    "self.num_states, self.num_controls, self.policy_len, self.control_fac_idx"
   ],
   "metadata": {
    "collapsed": false,
    "ExecuteTime": {
     "end_time": "2023-08-30T15:38:08.522671Z",
     "start_time": "2023-08-30T15:38:08.502083Z"
    }
   },
   "id": "550fab9f7f4514e4"
  },
  {
   "cell_type": "code",
   "execution_count": null,
   "outputs": [],
   "source": [],
   "metadata": {
    "collapsed": false
   },
   "id": "4c7bb5a8132e6a38"
  }
 ],
 "metadata": {
  "kernelspec": {
   "display_name": "Python 3",
   "language": "python",
   "name": "python3"
  },
  "language_info": {
   "codemirror_mode": {
    "name": "ipython",
    "version": 2
   },
   "file_extension": ".py",
   "mimetype": "text/x-python",
   "name": "python",
   "nbconvert_exporter": "python",
   "pygments_lexer": "ipython2",
   "version": "2.7.6"
  }
 },
 "nbformat": 4,
 "nbformat_minor": 5
}
