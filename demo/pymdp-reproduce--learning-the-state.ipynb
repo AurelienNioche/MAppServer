{
 "cells": [
  {
   "cell_type": "code",
   "execution_count": 1,
   "id": "initial_id",
   "metadata": {
    "collapsed": true,
    "ExecuteTime": {
     "end_time": "2023-09-01T11:34:34.319759Z",
     "start_time": "2023-09-01T11:34:33.557501Z"
    }
   },
   "outputs": [],
   "source": [
    "import numpy as np\n",
    "from pymdp.envs import TMazeEnv\n",
    "from pymdp import utils, maths\n",
    "import copy"
   ]
  },
  {
   "cell_type": "code",
   "execution_count": 2,
   "outputs": [],
   "source": [
    "%load_ext autoreload\n",
    "%autoreload 2"
   ],
   "metadata": {
    "collapsed": false,
    "ExecuteTime": {
     "end_time": "2023-09-01T11:34:34.335943Z",
     "start_time": "2023-09-01T11:34:34.320036Z"
    }
   },
   "id": "3565b7eb36b2ffd8"
  },
  {
   "cell_type": "markdown",
   "source": [
    "*actions*: 0: CENTER, 1: RIGHT ARM, 2: LEFT ARM, 3: CUE LOCATION (bottom)\n",
    "\n",
    "*observations*: 0: LOCATION, 1: REWARD, 2: CUE\n",
    "\n",
    "*states*: 0: LOCATION, 1: CONTEXT"
   ],
   "metadata": {
    "collapsed": false
   },
   "id": "22c473c9f48c8bf4"
  },
  {
   "cell_type": "code",
   "execution_count": 4,
   "outputs": [],
   "source": [
    "env = TMazeEnv(reward_probs=[0.98, 0.02])\n",
    "A = env.get_likelihood_dist()\n",
    "B = env.get_transition_dist()"
   ],
   "metadata": {
    "collapsed": false,
    "ExecuteTime": {
     "end_time": "2023-09-01T11:35:14.059602Z",
     "start_time": "2023-09-01T11:35:13.898568Z"
    }
   },
   "id": "4c73ec1f10952b64"
  },
  {
   "cell_type": "code",
   "execution_count": 6,
   "outputs": [],
   "source": [
    "# Beliefs over the states: p(location), p(context)\n",
    "D = [np.array([1,0,0,0]),     # Knows it is in the center\n",
    "     np.array([0.5, 0.5])]    # but doesn't know the context ('reward condition')\n",
    "# Preferences over the observations: \\tilde p(Location), \\tilde p(reward), \\tilde(context)\n",
    "C = [np.array([0., 0., 0., 0.]), # Location: Doesn't matter where it is\n",
    "     np.array([ 0., 3., -3.]),   # Reward: Prefers to see reward than no reward, or punishment\n",
    "     np.array([0., 0.])]         # Cue: Doesn't matter the cue (right, left)"
   ],
   "metadata": {
    "collapsed": false,
    "ExecuteTime": {
     "end_time": "2023-09-01T11:35:18.122528Z",
     "start_time": "2023-09-01T11:35:18.106439Z"
    }
   },
   "id": "65633756507022d6"
  },
  {
   "cell_type": "code",
   "execution_count": 7,
   "outputs": [
    {
     "data": {
      "text/plain": "[0, 0, 1]"
     },
     "execution_count": 7,
     "metadata": {},
     "output_type": "execute_result"
    }
   ],
   "source": [
    "obs = env.reset() # reset the environment and get an initial observation\n",
    "obs # Location, reward, cue"
   ],
   "metadata": {
    "collapsed": false,
    "ExecuteTime": {
     "end_time": "2023-09-01T11:35:21.526940Z",
     "start_time": "2023-09-01T11:35:21.504946Z"
    }
   },
   "id": "81cb6e76f93e74ac"
  },
  {
   "cell_type": "code",
   "execution_count": 67,
   "outputs": [],
   "source": [
    "def softmax(dist):\n",
    "    \"\"\" \n",
    "    Computes the softmax function on a set of values\n",
    "    \"\"\"\n",
    "\n",
    "    output = dist - dist.max(axis=0)\n",
    "    output = np.exp(output)\n",
    "    output = output / np.sum(output, axis=0)\n",
    "    return output"
   ],
   "metadata": {
    "collapsed": false,
    "ExecuteTime": {
     "end_time": "2023-08-31T18:34:49.225287Z",
     "start_time": "2023-08-31T18:34:49.204715Z"
    }
   },
   "id": "adfe4a720e4ca08a"
  },
  {
   "cell_type": "code",
   "execution_count": 8,
   "outputs": [
    {
     "name": "stdout",
     "output_type": "stream",
     "text": [
      "[0, 0, 1]\n"
     ]
    }
   ],
   "source": [
    "print(obs)"
   ],
   "metadata": {
    "collapsed": false,
    "ExecuteTime": {
     "end_time": "2023-09-01T11:45:55.799326Z",
     "start_time": "2023-09-01T11:45:55.768011Z"
    }
   },
   "id": "c3eb3bf878fad619"
  },
  {
   "cell_type": "code",
   "execution_count": 16,
   "outputs": [
    {
     "name": "stdout",
     "output_type": "stream",
     "text": [
      "prior [  0.         -36.84136149 -36.84136149 -36.84136149]\n",
      "qs [0.25 0.25 0.25 0.25]\n",
      "[-1.38629436]\n",
      "prior [-0.69314718 -0.69314718]\n",
      "qs [0.5 0.5]\n",
      "[-0.69314718]\n"
     ]
    }
   ],
   "source": [
    "EPS = 1e-16\n",
    "\n",
    "s_location_idx = 0\n",
    "s_context_idx = 1\n",
    "qs_context = D[s_context_idx] # Equals D for the first iteration\n",
    "n_state = len(B)\n",
    "\n",
    "obs = [np.array([1., 0., 0., 0.]), np.array([1., 0., 0.]), np.array([1., 0.])]\n",
    "\n",
    "old_qs = D\n",
    "\n",
    "for i in range(n_state):\n",
    "    \n",
    "    prior = np.log(old_qs[i] + EPS)\n",
    "    print(\"prior\", prior)\n",
    "    \n",
    "    qs = np.ones(len(prior)) / len(prior)\n",
    "    print(\"qs\", qs)\n",
    "    \n",
    "    negH_qs = qs.dot(np.log(qs + 1e-16))\n",
    "    print(negH_qs)\n"
   ],
   "metadata": {
    "collapsed": false,
    "ExecuteTime": {
     "end_time": "2023-09-01T12:00:51.195059Z",
     "start_time": "2023-09-01T12:00:51.169095Z"
    }
   },
   "id": "2d119b6e6ef754c9"
  },
  {
   "cell_type": "code",
   "execution_count": null,
   "outputs": [],
   "source": [],
   "metadata": {
    "collapsed": false
   },
   "id": "bc132b64bbc0e29a"
  }
 ],
 "metadata": {
  "kernelspec": {
   "display_name": "Python 3",
   "language": "python",
   "name": "python3"
  },
  "language_info": {
   "codemirror_mode": {
    "name": "ipython",
    "version": 2
   },
   "file_extension": ".py",
   "mimetype": "text/x-python",
   "name": "python",
   "nbconvert_exporter": "python",
   "pygments_lexer": "ipython2",
   "version": "2.7.6"
  }
 },
 "nbformat": 4,
 "nbformat_minor": 5
}
